{
 "cells": [
  {
   "cell_type": "code",
   "execution_count": null,
   "id": "c6224df2-731c-4fbe-850c-04bd2e3481ca",
   "metadata": {},
   "outputs": [],
   "source": [
    "# %pip install llama-index-embeddings-openai\n",
    "!pip install llama-index-readers-file\n",
    "%pip install llama-index-embeddings-huggingface\n",
    "# %pip install llama-index-embeddings-instructor\n",
    "!pip install llama-index\n"
   ]
  },
  {
   "cell_type": "code",
   "execution_count": null,
   "id": "45554b16-cd83-4c3d-8ff7-5eae7494e80f",
   "metadata": {},
   "outputs": [],
   "source": [
    "from llama_index.core import SimpleDirectoryReader\n",
    "\n",
    "# load documents\n",
    "documents = SimpleDirectoryReader(input_files=[\"art_of_happiness.txt\"]).load_data()"
   ]
  },
  {
   "cell_type": "code",
   "execution_count": null,
   "id": "381d127a-93a8-4403-af5e-d7e2a45b6ff9",
   "metadata": {},
   "outputs": [],
   "source": [
    "from llama_index.core.node_parser import (\n",
    "    SentenceSplitter,\n",
    ")"
   ]
  },
  {
   "cell_type": "code",
   "execution_count": null,
   "id": "ba1b64a6-2be1-4fa1-a314-d9836117e4b1",
   "metadata": {},
   "outputs": [],
   "source": [
    "from llama_index.embeddings.huggingface import HuggingFaceEmbedding\n",
    "\n",
    "\n",
    "embed_model = HuggingFaceEmbedding(model_name=\"Alibaba-NLP/gte-large-en-v1.5\", trust_remote_code=True, embed_batch_size=1)"
   ]
  },
  {
   "cell_type": "code",
   "execution_count": null,
   "id": "3e30ee53-08a0-4bce-9b32-214d84073d71",
   "metadata": {},
   "outputs": [],
   "source": [
    "base_splitter = SentenceSplitter(chunk_size=500, chunk_overlap=100)\n",
    "base_nodes = base_splitter.get_nodes_from_documents(documents)\n"
   ]
  },
  {
   "cell_type": "code",
   "execution_count": null,
   "id": "81077833-1ead-4402-8959-6bb6f14f087f",
   "metadata": {},
   "outputs": [],
   "source": [
    "base_nodes[0]"
   ]
  },
  {
   "cell_type": "code",
   "execution_count": null,
   "id": "72b44c38-5641-4dc0-b16e-27cd63b117d6",
   "metadata": {},
   "outputs": [],
   "source": [
    "from tqdm import tqdm\n",
    "\n",
    "for node in tqdm(base_nodes):\n",
    "  node.embedding = embed_model.get_text_embedding(node.text)\n"
   ]
  },
  {
   "cell_type": "code",
   "execution_count": null,
   "id": "a54dbedd-cf47-454a-9cbf-5f6801e8107c",
   "metadata": {},
   "outputs": [],
   "source": [
    "len(base_nodes)"
   ]
  },
  {
   "cell_type": "code",
   "execution_count": null,
   "id": "0b83ea32-7b5a-4b49-9f70-924e35ec4d37",
   "metadata": {},
   "outputs": [],
   "source": [
    "!pip install matplotlib"
   ]
  },
  {
   "cell_type": "code",
   "execution_count": null,
   "id": "c9897995-8ccf-48a9-acb6-91bb023b8807",
   "metadata": {},
   "outputs": [],
   "source": [
    "from llama_index.core import VectorStoreIndex\n",
    "from llama_index.core.response.notebook_utils import display_source_node\n",
    "from llama_index.core import Settings\n",
    "\n",
    "# global default\n",
    "Settings.embed_model = embed_model \n",
    "\n",
    "from tqdm import tqdm \n",
    "\n",
    "base_vector_index = VectorStoreIndex(base_nodes)\n",
    "retriever = base_vector_index.as_retriever(similarity_top_k=5)\n",
    "\n"
   ]
  },
  {
   "cell_type": "code",
   "execution_count": null,
   "id": "5100c000-dc10-4f52-ab3b-56fac5164768",
   "metadata": {},
   "outputs": [],
   "source": [
    "!pip install accelerate\n"
   ]
  },
  {
   "cell_type": "code",
   "execution_count": null,
   "id": "bfc13a0c-e897-45c9-865d-650dc642e463",
   "metadata": {},
   "outputs": [],
   "source": [
    "import torch\n",
    "torch.cuda.empty_cache()\n",
    "\n",
    "from transformers import AutoModelForCausalLM, AutoTokenizer, pipeline\n",
    "\n",
    "torch.random.manual_seed(0)\n",
    "\n",
    "model = AutoModelForCausalLM.from_pretrained(\n",
    "    \"microsoft/Phi-3-mini-128k-instruct\", \n",
    "    device_map=\"cuda\", \n",
    "    torch_dtype=\"auto\", \n",
    "    trust_remote_code=True, \n",
    "low_cpu_mem_usage=True\n",
    "\n",
    ")\n",
    "tokenizer = AutoTokenizer.from_pretrained(\"microsoft/Phi-3-mini-128k-instruct\")\n",
    "\n",
    "\n",
    "pipe = pipeline(\n",
    "    \"text-generation\",\n",
    "    model=model,\n",
    "    tokenizer=tokenizer,\n",
    ")\n",
    "\n",
    "generation_args = {\n",
    "    \"max_new_tokens\": 500,\n",
    "    \"return_full_text\": False,\n",
    "    \"temperature\": 0,\n",
    "    \"do_sample\": False,\n",
    "}\n"
   ]
  },
  {
   "cell_type": "code",
   "execution_count": null,
   "id": "24a63686-d6e4-4d8d-8327-b7b63e4ad8a3",
   "metadata": {},
   "outputs": [],
   "source": []
  },
  {
   "cell_type": "code",
   "execution_count": null,
   "id": "8cd013fe-068b-4175-967b-ffd242cdc342",
   "metadata": {},
   "outputs": [],
   "source": [
    "\n",
    "def generate_answer(question, num_of_context):\n",
    "    retriever = base_vector_index.as_retriever(similarity_top_k=num_of_context)\n",
    "    retrieved_nodes = retriever.retrieve(question)\n",
    "\n",
    "    \n",
    "    context = \"\"\n",
    "    for idx,retrieved_node in enumerate(retrieved_nodes):\n",
    "        context += retrieved_node.get_content()\n",
    "\n",
    "        \n",
    "    prompt = f\"\"\"\n",
    "    \n",
    "    You are a spiritual leader. Your students will seek your guidance.\n",
    "    Answer their questions based solely on the provided context. \n",
    "    If the context does not contain the information needed to answer a question, respond with \"I don't know.\"\n",
    "    Context: {context}\n",
    "    Question: {question}\n",
    "    \n",
    "    \"\"\"\n",
    "    \n",
    "    messages = [\n",
    "        {\"role\": \"user\", \"content\": prompt},\n",
    "    ]\n",
    "    output = pipe(messages, **generation_args)\n",
    "    answer = output[0]['generated_text']\n",
    "\n",
    "    return (answer, context)\n"
   ]
  },
  {
   "cell_type": "code",
   "execution_count": null,
   "id": "cc378fdf-e689-4306-b599-78da52769e9b",
   "metadata": {},
   "outputs": [],
   "source": [
    "from sklearn.metrics.pairwise import cosine_similarity\n",
    "\n",
    "\n",
    "\n",
    "def calculate_faithfulness(context, answer):\n",
    "    context_embedding = embed_model.get_text_embedding(context)\n",
    "    answer_embedding = embed_model.get_text_embedding(answer)\n",
    "    similarity = cosine_similarity([context_embedding], [answer_embedding])\n",
    "    return similarity[0][0]\n",
    "\n",
    "def calculate_relevancy(question, answer):\n",
    "    question_embedding = embed_model.get_text_embedding(question)\n",
    "    answer_embedding = embed_model.get_text_embedding(answer)\n",
    "    similarity = cosine_similarity([question_embedding], [answer_embedding])\n",
    "    return similarity[0][0]\n",
    "\n",
    "\n",
    "question = \"How to be happy?\"\n",
    "\n",
    "output = generate_answer(question,3)\n",
    "answer, context = output\n",
    "\n",
    "faithfulness_score = calculate_faithfulness(context, answer)\n",
    "relevancy_score = calculate_relevancy(question, answer)\n",
    "\n",
    "print(f\"Faithfulness Score: {faithfulness_score}\")\n",
    "print(f\"Relevancy Score: {relevancy_score}\")\n",
    "print(answer)"
   ]
  },
  {
   "cell_type": "code",
   "execution_count": null,
   "id": "c9add8c2-3574-46ab-8b70-4254f7b078cc",
   "metadata": {},
   "outputs": [],
   "source": [
    "from pathlib import Path \n",
    "\n",
    "content = Path(\"generated_questions.txt\").read_text(encoding=\"utf-8\")\n",
    "\n",
    "generated_questions = content.splitlines()\n"
   ]
  },
  {
   "cell_type": "code",
   "execution_count": null,
   "id": "2ae2f8a0-e754-4fc7-bc8c-23e58c88b9c6",
   "metadata": {},
   "outputs": [],
   "source": [
    "len(generated_questions)"
   ]
  },
  {
   "cell_type": "code",
   "execution_count": null,
   "id": "998f8467",
   "metadata": {},
   "outputs": [],
   "source": []
  },
  {
   "cell_type": "code",
   "execution_count": null,
   "id": "a5db23c6-250b-4aaa-85ed-54deecb523ae",
   "metadata": {},
   "outputs": [],
   "source": [
    "import pandas as pd\n",
    "from tqdm import tqdm\n",
    "import time\n",
    "import warnings\n",
    "\n",
    "\n",
    "results = []\n",
    "\n",
    "warnings.filterwarnings('ignore')\n",
    "\n",
    "for question in tqdm(generated_questions, desc=\"Evaluating\"):\n",
    "    for i in range(2, 6):\n",
    "        start = time.time()\n",
    "        output = generate_answer(question, i)\n",
    "        answer, context = output\n",
    "        response_time = time.time() - start\n",
    "        faithfulness_score = calculate_faithfulness(context, answer)\n",
    "        relevancy_score = calculate_relevancy(question, answer)\n",
    "\n",
    "        results.append({\n",
    "            'number of context': i,\n",
    "            'question': question,\n",
    "            'answer': answer,\n",
    "            'faithfulness_score': faithfulness_score,\n",
    "            'relevancy_score': relevancy_score,\n",
    "            'response_time': response_time\n",
    "        })\n",
    "\n",
    "# Create a DataFrame\n",
    "df = pd.DataFrame(results)\n",
    "\n",
    "# Save the DataFrame to a CSV file\n",
    "df.to_csv('phi3_128k_results.csv', index=False)\n"
   ]
  },
  {
   "cell_type": "code",
   "execution_count": null,
   "id": "c0b65abe-86cc-4f46-90c1-0779e71dd515",
   "metadata": {},
   "outputs": [],
   "source": [
    "df"
   ]
  },
  {
   "cell_type": "code",
   "execution_count": null,
   "id": "f1b5d2a7-1597-40a8-85be-f2312bf19ecd",
   "metadata": {},
   "outputs": [],
   "source": [
    "aggregated_results = df.groupby('number of context').agg({\n",
    "    'faithfulness_score': ['mean', 'max', 'min'],\n",
    "    'relevancy_score': ['mean', 'max', 'min'],\n",
    "    'response_time': ['mean', 'max', 'min']\n",
    "}).reset_index()"
   ]
  },
  {
   "cell_type": "code",
   "execution_count": null,
   "id": "e57e11a5-3369-4307-8a58-546735d0c1af",
   "metadata": {},
   "outputs": [],
   "source": [
    "aggregated_results"
   ]
  },
  {
   "cell_type": "code",
   "execution_count": null,
   "id": "eb49169c-aca4-4ed0-9b4c-249b28005167",
   "metadata": {},
   "outputs": [],
   "source": []
  }
 ],
 "metadata": {
  "kernelspec": {
   "display_name": "Python 3 (ipykernel)",
   "language": "python",
   "name": "python3"
  },
  "language_info": {
   "codemirror_mode": {
    "name": "ipython",
    "version": 3
   },
   "file_extension": ".py",
   "mimetype": "text/x-python",
   "name": "python",
   "nbconvert_exporter": "python",
   "pygments_lexer": "ipython3",
   "version": "3.10.13"
  }
 },
 "nbformat": 4,
 "nbformat_minor": 5
}
